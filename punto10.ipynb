{
 "cells": [
  {
   "cell_type": "markdown",
   "metadata": {},
   "source": [
    "INFORMACION DISPONIBLE\n",
    "\n"
   ]
  },
  {
   "cell_type": "code",
   "execution_count": 1,
   "metadata": {},
   "outputs": [],
   "source": [
    "names = \"\"\"Agustin, Yanina, Andrés, Ariadna, Bautista, CAROLINA,\n",
    "CESAR, David, Diego, Dolores, DYLAN, ELIANA, Emanuel, Fabián, Noelia,\n",
    "Francisca, FEDERICO, Fernanda, GONZALO, Nancy\"\"\"\n",
    "goals = [0, 10, 4, 0, 5, 14, 0, 0, 7, 2, 1, 1, 1, 5, 6, 1, 1, 2, 0,\n",
    "11]\n",
    "goals_avoided = [0, 2, 0, 0, 5, 2, 0, 0, 1, 2, 0, 5, 5, 0, 1, 0, 2,\n",
    "3, 0, 0]\n",
    "assists = [0, 5, 1, 0, 5, 2, 0, 0, 1, 2, 1, 5, 5, 0, 1, 0, 2, 3, 1,\n",
    "0]"
   ]
  },
  {
   "cell_type": "markdown",
   "metadata": {},
   "source": [
    "PUNTO 1: Crea un diccionario en el que se almacena el nombre del jugador como key, y una tupla con los goles, goles evitados y asistencias en value."
   ]
  },
  {
   "cell_type": "code",
   "execution_count": 2,
   "metadata": {},
   "outputs": [
    {
     "name": "stdout",
     "output_type": "stream",
     "text": [
      "{'Agustin': (0, 0, 0), 'Yanina': (10, 2, 5), 'Andrés': (4, 0, 1), 'Ariadna': (0, 0, 0), 'Bautista': (5, 5, 5), 'CAROLINA': (14, 2, 2), 'CESAR': (0, 0, 0), 'David': (0, 0, 0), 'Diego': (7, 1, 1), 'Dolores': (2, 2, 2), 'DYLAN': (1, 0, 1), 'ELIANA': (1, 5, 5), 'Emanuel': (1, 5, 5), 'Fabián': (5, 0, 0), 'Noelia': (6, 1, 1), 'Francisca': (1, 0, 0), 'FEDERICO': (1, 2, 2), 'Fernanda': (2, 3, 3), 'GONZALO': (0, 0, 1), 'Nancy': (11, 0, 0)}\n"
     ]
    }
   ],
   "source": [
    "stadistics = {}\n",
    "names = names.replace(\",\",\"\")\n",
    "names = names.split()\n",
    "for i in range(len(names)):\n",
    "    stadistics[names[i]] = (goals[i],goals_avoided[i],assists[i])\n",
    "print (stadistics)"
   ]
  },
  {
   "cell_type": "markdown",
   "metadata": {},
   "source": [
    "PUNTO 2: Importa el metodo recorrido() que itera sobre el diccionario y retorna el nombre del jugador/a que hizo mas goles."
   ]
  },
  {
   "cell_type": "code",
   "execution_count": 3,
   "metadata": {},
   "outputs": [
    {
     "name": "stdout",
     "output_type": "stream",
     "text": [
      "El goleador/a es CAROLINA - 14\n"
     ]
    }
   ],
   "source": [
    "import MetodosPunto10.goleador\n",
    "goalScorer = MetodosPunto10.goleador.recorrido(stadistics)\n",
    "print (\"El goleador/a es {} - {}\".format(goalScorer[0],goalScorer[1]))"
   ]
  },
  {
   "cell_type": "markdown",
   "metadata": {},
   "source": [
    "PUNTO 3"
   ]
  },
  {
   "cell_type": "code",
   "execution_count": 4,
   "metadata": {},
   "outputs": [
    {
     "name": "stdout",
     "output_type": "stream",
     "text": [
      "El/La jugador mas influyente fue CAROLINA\n"
     ]
    }
   ],
   "source": [
    "import MetodosPunto10.influyente\n",
    "print (\"El/La jugador mas influyente fue {}\".format(MetodosPunto10.influyente.calcularMasInfluyente(stadistics)))"
   ]
  },
  {
   "cell_type": "markdown",
   "metadata": {},
   "source": [
    "PUNTO 4"
   ]
  },
  {
   "cell_type": "code",
   "execution_count": 7,
   "metadata": {},
   "outputs": [
    {
     "name": "stdout",
     "output_type": "stream",
     "text": [
      "El promedio de goles del equipo es:  2.84\n"
     ]
    }
   ],
   "source": [
    "import MetodosPunto10.promedio\n",
    "print (\"El promedio de goles del equipo es: \",MetodosPunto10.promedio.totalGoals(stadistics) / 25)"
   ]
  },
  {
   "cell_type": "markdown",
   "metadata": {},
   "source": [
    "PUNTO 5"
   ]
  },
  {
   "cell_type": "code",
   "execution_count": 6,
   "metadata": {},
   "outputs": [
    {
     "name": "stdout",
     "output_type": "stream",
     "text": [
      "El promedio del goleador/a es 0.56\n"
     ]
    }
   ],
   "source": [
    "import MetodosPunto10.goleador\n",
    "goalScorer = MetodosPunto10.goleador.recorrido(stadistics)\n",
    "print (\"El promedio del goleador/a es {}\".format(stadistics.get(goalScorer[0])[0] / 25))"
   ]
  }
 ],
 "metadata": {
  "kernelspec": {
   "display_name": "Python 3",
   "language": "python",
   "name": "python3"
  },
  "language_info": {
   "codemirror_mode": {
    "name": "ipython",
    "version": 3
   },
   "file_extension": ".py",
   "mimetype": "text/x-python",
   "name": "python",
   "nbconvert_exporter": "python",
   "pygments_lexer": "ipython3",
   "version": "3.11.5"
  }
 },
 "nbformat": 4,
 "nbformat_minor": 2
}
